{
  "nbformat": 4,
  "nbformat_minor": 0,
  "metadata": {
    "colab": {
      "provenance": [],
      "mount_file_id": "1t3NxRtzZt0s8Ulao5EOHDLfO3MNjNKiU",
      "authorship_tag": "ABX9TyM7g/3/NdlJZ/lqATHi6Pdx",
      "include_colab_link": true
    },
    "kernelspec": {
      "name": "python3",
      "display_name": "Python 3"
    },
    "language_info": {
      "name": "python"
    }
  },
  "cells": [
    {
      "cell_type": "markdown",
      "metadata": {
        "id": "view-in-github",
        "colab_type": "text"
      },
      "source": [
        "<a href=\"https://colab.research.google.com/github/AliceCalage79/Relatorio_Software/blob/main/Relatorio_emp_software.ipynb\" target=\"_parent\"><img src=\"https://colab.research.google.com/assets/colab-badge.svg\" alt=\"Open In Colab\"/></a>"
      ]
    },
    {
      "cell_type": "markdown",
      "source": [
        "# <font color = red> Análise Exploratória : Dados de Horas Trabalhadas em uma Empresa de Software ✍\n",
        "\n",
        "## <font color = red>* Objetivos::\n",
        "---\n",
        "O projeto visa a realização de uma análise exploratória de dados de uma empresa de software, mas precisamente de uma tabela com os registros de horários e tarefas de um funcionário durante uma semana:\n",
        "\n",
        "\n",
        "*   Análise descritiva das características dos dados, registros, tipos de dados\n",
        "    e valores;\n",
        "*   Limpar e tratar os dados;\n",
        "\n",
        "*   Utilizar e visualizar gráficos com o objetivo de obter alguns insights.\n",
        "\n",
        "Algumas perguntas para direcionar a análise:\n",
        "\n",
        "  - Como está a produtividade desse funcionário?\n",
        "  - Será que o índice de horas trabalhadas aconhpanha o de tarefas concluídas?\n",
        "\n",
        "\n"
      ],
      "metadata": {
        "id": "HbTBMZaoGSFH"
      }
    },
    {
      "cell_type": "markdown",
      "source": [
        "- <font color= red> Imagem da tabela a ser trabalhada no relatório\n",
        "\n",
        "![Imgur](https://i.imgur.com/XRkaVce.png)"
      ],
      "metadata": {
        "id": "IYWBU2MbwTrU"
      }
    },
    {
      "cell_type": "markdown",
      "source": [
        "---\n",
        "\n",
        "## <font color = red>* Importando as bibliotecas"
      ],
      "metadata": {
        "id": "0Edl6BULbgT0"
      }
    },
    {
      "cell_type": "code",
      "source": [
        "# Pacotes de bibliotecas que serão usadas no projeto:\n",
        "import pandas as pd\n",
        "import numpy as np\n",
        "import matplotlib\n",
        "import matplotlib.pyplot as plt\n",
        "# versões dos pacotes:\n",
        "print('Pacotes Instalados! Versões Utilizadas:\\n')\n",
        "print(f'Pandas      --> {pd.__version__}')\n",
        "print(f'Numpy       --> {np.__version__}')\n",
        "print(f'Matplotlib  --> {matplotlib.__version__}')\n",
        "# definindo o backend do matplotlib no arquivo jupyter\n",
        "%matplotlib inline\n"
      ],
      "metadata": {
        "id": "ekWZZzO_GYqv",
        "colab": {
          "base_uri": "https://localhost:8080/"
        },
        "outputId": "80fc4d20-37a0-4eea-b3fa-e337eada7c2e"
      },
      "execution_count": 28,
      "outputs": [
        {
          "output_type": "stream",
          "name": "stdout",
          "text": [
            "Pacotes Instalados! Versões Utilizadas:\n",
            "\n",
            "Pandas      --> 1.5.3\n",
            "Numpy       --> 1.22.4\n",
            "Matplotlib  --> 3.7.1\n"
          ]
        }
      ]
    },
    {
      "cell_type": "markdown",
      "source": [
        "---\n",
        "\n",
        "## <font color = red> * Importanto Tb_trabalho.csv\n",
        "- Tb_trabalho possui os dados que serão trabalhados no projeto do Relatorio_emp_software, esse arquivo esta armazenado no diretório do projeto no GitHub\n"
      ],
      "metadata": {
        "id": "5SDR2gH3cqaC"
      }
    },
    {
      "cell_type": "code",
      "source": [
        "data = 'https://raw.githubusercontent.com/AliceCalage79/Relatorio_Software/main/Dados_csv/Tb_trabalho.csv'\n",
        "dataframe =pd.read_csv(data)\n",
        "dataframe"
      ],
      "metadata": {
        "colab": {
          "base_uri": "https://localhost:8080/",
          "height": 269
        },
        "id": "qrOioydmk_Sm",
        "outputId": "ec9609ef-79e4-4a62-d15e-879bd472f565"
      },
      "execution_count": 29,
      "outputs": [
        {
          "output_type": "execute_result",
          "data": {
            "text/plain": [
              "       Dia  Horas Trabalhadas  Bugs Corrigidos  Tarefas Concluídas\n",
              "0  Segunda                  6                3                   5\n",
              "1    Terça                  7                2                   4\n",
              "2   Quarta                  8                1                   6\n",
              "3   Quinta                  6                4                   4\n",
              "4    Sexta                  7                3                   5\n",
              "5   Sábado                  5                2                   3\n",
              "6  Domingo                  4                1                   2"
            ],
            "text/html": [
              "\n",
              "\n",
              "  <div id=\"df-63fb2dba-cb21-46d6-9a1e-9264ade09e79\">\n",
              "    <div class=\"colab-df-container\">\n",
              "      <div>\n",
              "<style scoped>\n",
              "    .dataframe tbody tr th:only-of-type {\n",
              "        vertical-align: middle;\n",
              "    }\n",
              "\n",
              "    .dataframe tbody tr th {\n",
              "        vertical-align: top;\n",
              "    }\n",
              "\n",
              "    .dataframe thead th {\n",
              "        text-align: right;\n",
              "    }\n",
              "</style>\n",
              "<table border=\"1\" class=\"dataframe\">\n",
              "  <thead>\n",
              "    <tr style=\"text-align: right;\">\n",
              "      <th></th>\n",
              "      <th>Dia</th>\n",
              "      <th>Horas Trabalhadas</th>\n",
              "      <th>Bugs Corrigidos</th>\n",
              "      <th>Tarefas Concluídas</th>\n",
              "    </tr>\n",
              "  </thead>\n",
              "  <tbody>\n",
              "    <tr>\n",
              "      <th>0</th>\n",
              "      <td>Segunda</td>\n",
              "      <td>6</td>\n",
              "      <td>3</td>\n",
              "      <td>5</td>\n",
              "    </tr>\n",
              "    <tr>\n",
              "      <th>1</th>\n",
              "      <td>Terça</td>\n",
              "      <td>7</td>\n",
              "      <td>2</td>\n",
              "      <td>4</td>\n",
              "    </tr>\n",
              "    <tr>\n",
              "      <th>2</th>\n",
              "      <td>Quarta</td>\n",
              "      <td>8</td>\n",
              "      <td>1</td>\n",
              "      <td>6</td>\n",
              "    </tr>\n",
              "    <tr>\n",
              "      <th>3</th>\n",
              "      <td>Quinta</td>\n",
              "      <td>6</td>\n",
              "      <td>4</td>\n",
              "      <td>4</td>\n",
              "    </tr>\n",
              "    <tr>\n",
              "      <th>4</th>\n",
              "      <td>Sexta</td>\n",
              "      <td>7</td>\n",
              "      <td>3</td>\n",
              "      <td>5</td>\n",
              "    </tr>\n",
              "    <tr>\n",
              "      <th>5</th>\n",
              "      <td>Sábado</td>\n",
              "      <td>5</td>\n",
              "      <td>2</td>\n",
              "      <td>3</td>\n",
              "    </tr>\n",
              "    <tr>\n",
              "      <th>6</th>\n",
              "      <td>Domingo</td>\n",
              "      <td>4</td>\n",
              "      <td>1</td>\n",
              "      <td>2</td>\n",
              "    </tr>\n",
              "  </tbody>\n",
              "</table>\n",
              "</div>\n",
              "      <button class=\"colab-df-convert\" onclick=\"convertToInteractive('df-63fb2dba-cb21-46d6-9a1e-9264ade09e79')\"\n",
              "              title=\"Convert this dataframe to an interactive table.\"\n",
              "              style=\"display:none;\">\n",
              "\n",
              "  <svg xmlns=\"http://www.w3.org/2000/svg\" height=\"24px\"viewBox=\"0 0 24 24\"\n",
              "       width=\"24px\">\n",
              "    <path d=\"M0 0h24v24H0V0z\" fill=\"none\"/>\n",
              "    <path d=\"M18.56 5.44l.94 2.06.94-2.06 2.06-.94-2.06-.94-.94-2.06-.94 2.06-2.06.94zm-11 1L8.5 8.5l.94-2.06 2.06-.94-2.06-.94L8.5 2.5l-.94 2.06-2.06.94zm10 10l.94 2.06.94-2.06 2.06-.94-2.06-.94-.94-2.06-.94 2.06-2.06.94z\"/><path d=\"M17.41 7.96l-1.37-1.37c-.4-.4-.92-.59-1.43-.59-.52 0-1.04.2-1.43.59L10.3 9.45l-7.72 7.72c-.78.78-.78 2.05 0 2.83L4 21.41c.39.39.9.59 1.41.59.51 0 1.02-.2 1.41-.59l7.78-7.78 2.81-2.81c.8-.78.8-2.07 0-2.86zM5.41 20L4 18.59l7.72-7.72 1.47 1.35L5.41 20z\"/>\n",
              "  </svg>\n",
              "      </button>\n",
              "\n",
              "\n",
              "\n",
              "    <div id=\"df-5652a696-4916-4566-8d26-5883c4a269d1\">\n",
              "      <button class=\"colab-df-quickchart\" onclick=\"quickchart('df-5652a696-4916-4566-8d26-5883c4a269d1')\"\n",
              "              title=\"Suggest charts.\"\n",
              "              style=\"display:none;\">\n",
              "\n",
              "<svg xmlns=\"http://www.w3.org/2000/svg\" height=\"24px\"viewBox=\"0 0 24 24\"\n",
              "     width=\"24px\">\n",
              "    <g>\n",
              "        <path d=\"M19 3H5c-1.1 0-2 .9-2 2v14c0 1.1.9 2 2 2h14c1.1 0 2-.9 2-2V5c0-1.1-.9-2-2-2zM9 17H7v-7h2v7zm4 0h-2V7h2v10zm4 0h-2v-4h2v4z\"/>\n",
              "    </g>\n",
              "</svg>\n",
              "      </button>\n",
              "    </div>\n",
              "\n",
              "<style>\n",
              "  .colab-df-quickchart {\n",
              "    background-color: #E8F0FE;\n",
              "    border: none;\n",
              "    border-radius: 50%;\n",
              "    cursor: pointer;\n",
              "    display: none;\n",
              "    fill: #1967D2;\n",
              "    height: 32px;\n",
              "    padding: 0 0 0 0;\n",
              "    width: 32px;\n",
              "  }\n",
              "\n",
              "  .colab-df-quickchart:hover {\n",
              "    background-color: #E2EBFA;\n",
              "    box-shadow: 0px 1px 2px rgba(60, 64, 67, 0.3), 0px 1px 3px 1px rgba(60, 64, 67, 0.15);\n",
              "    fill: #174EA6;\n",
              "  }\n",
              "\n",
              "  [theme=dark] .colab-df-quickchart {\n",
              "    background-color: #3B4455;\n",
              "    fill: #D2E3FC;\n",
              "  }\n",
              "\n",
              "  [theme=dark] .colab-df-quickchart:hover {\n",
              "    background-color: #434B5C;\n",
              "    box-shadow: 0px 1px 3px 1px rgba(0, 0, 0, 0.15);\n",
              "    filter: drop-shadow(0px 1px 2px rgba(0, 0, 0, 0.3));\n",
              "    fill: #FFFFFF;\n",
              "  }\n",
              "</style>\n",
              "\n",
              "    <script>\n",
              "      async function quickchart(key) {\n",
              "        const containerElement = document.querySelector('#' + key);\n",
              "        const charts = await google.colab.kernel.invokeFunction(\n",
              "            'suggestCharts', [key], {});\n",
              "      }\n",
              "    </script>\n",
              "\n",
              "      <script>\n",
              "\n",
              "function displayQuickchartButton(domScope) {\n",
              "  let quickchartButtonEl =\n",
              "    domScope.querySelector('#df-5652a696-4916-4566-8d26-5883c4a269d1 button.colab-df-quickchart');\n",
              "  quickchartButtonEl.style.display =\n",
              "    google.colab.kernel.accessAllowed ? 'block' : 'none';\n",
              "}\n",
              "\n",
              "        displayQuickchartButton(document);\n",
              "      </script>\n",
              "      <style>\n",
              "    .colab-df-container {\n",
              "      display:flex;\n",
              "      flex-wrap:wrap;\n",
              "      gap: 12px;\n",
              "    }\n",
              "\n",
              "    .colab-df-convert {\n",
              "      background-color: #E8F0FE;\n",
              "      border: none;\n",
              "      border-radius: 50%;\n",
              "      cursor: pointer;\n",
              "      display: none;\n",
              "      fill: #1967D2;\n",
              "      height: 32px;\n",
              "      padding: 0 0 0 0;\n",
              "      width: 32px;\n",
              "    }\n",
              "\n",
              "    .colab-df-convert:hover {\n",
              "      background-color: #E2EBFA;\n",
              "      box-shadow: 0px 1px 2px rgba(60, 64, 67, 0.3), 0px 1px 3px 1px rgba(60, 64, 67, 0.15);\n",
              "      fill: #174EA6;\n",
              "    }\n",
              "\n",
              "    [theme=dark] .colab-df-convert {\n",
              "      background-color: #3B4455;\n",
              "      fill: #D2E3FC;\n",
              "    }\n",
              "\n",
              "    [theme=dark] .colab-df-convert:hover {\n",
              "      background-color: #434B5C;\n",
              "      box-shadow: 0px 1px 3px 1px rgba(0, 0, 0, 0.15);\n",
              "      filter: drop-shadow(0px 1px 2px rgba(0, 0, 0, 0.3));\n",
              "      fill: #FFFFFF;\n",
              "    }\n",
              "  </style>\n",
              "\n",
              "      <script>\n",
              "        const buttonEl =\n",
              "          document.querySelector('#df-63fb2dba-cb21-46d6-9a1e-9264ade09e79 button.colab-df-convert');\n",
              "        buttonEl.style.display =\n",
              "          google.colab.kernel.accessAllowed ? 'block' : 'none';\n",
              "\n",
              "        async function convertToInteractive(key) {\n",
              "          const element = document.querySelector('#df-63fb2dba-cb21-46d6-9a1e-9264ade09e79');\n",
              "          const dataTable =\n",
              "            await google.colab.kernel.invokeFunction('convertToInteractive',\n",
              "                                                     [key], {});\n",
              "          if (!dataTable) return;\n",
              "\n",
              "          const docLinkHtml = 'Like what you see? Visit the ' +\n",
              "            '<a target=\"_blank\" href=https://colab.research.google.com/notebooks/data_table.ipynb>data table notebook</a>'\n",
              "            + ' to learn more about interactive tables.';\n",
              "          element.innerHTML = '';\n",
              "          dataTable['output_type'] = 'display_data';\n",
              "          await google.colab.output.renderOutput(dataTable, element);\n",
              "          const docLink = document.createElement('div');\n",
              "          docLink.innerHTML = docLinkHtml;\n",
              "          element.appendChild(docLink);\n",
              "        }\n",
              "      </script>\n",
              "    </div>\n",
              "  </div>\n"
            ]
          },
          "metadata": {},
          "execution_count": 29
        }
      ]
    },
    {
      "cell_type": "markdown",
      "source": [
        "  - Tabela criada de acordo com os dados disponibilizados pela empresa.\n",
        "  "
      ],
      "metadata": {
        "id": "oz7UJQcidtYK"
      }
    },
    {
      "cell_type": "markdown",
      "source": [
        "---\n",
        "\n",
        "## <font color = red>* Vizualização e dimensões dos registros, com os tipos de dados"
      ],
      "metadata": {
        "id": "okVM6wJ--fkZ"
      }
    },
    {
      "cell_type": "code",
      "source": [
        "# aqui estao os 5 primeiros dias da semana com os dados carregados, para uma primeira vizualização\n",
        "dataframe.head()"
      ],
      "metadata": {
        "colab": {
          "base_uri": "https://localhost:8080/",
          "height": 206
        },
        "id": "6r-X2lqF0yGc",
        "outputId": "f6e242bc-a8db-40dd-fcf0-eb1a178a9b60"
      },
      "execution_count": 30,
      "outputs": [
        {
          "output_type": "execute_result",
          "data": {
            "text/plain": [
              "       Dia  Horas Trabalhadas  Bugs Corrigidos  Tarefas Concluídas\n",
              "0  Segunda                  6                3                   5\n",
              "1    Terça                  7                2                   4\n",
              "2   Quarta                  8                1                   6\n",
              "3   Quinta                  6                4                   4\n",
              "4    Sexta                  7                3                   5"
            ],
            "text/html": [
              "\n",
              "\n",
              "  <div id=\"df-1c5339db-bb1d-4352-b417-78e59dc71bd4\">\n",
              "    <div class=\"colab-df-container\">\n",
              "      <div>\n",
              "<style scoped>\n",
              "    .dataframe tbody tr th:only-of-type {\n",
              "        vertical-align: middle;\n",
              "    }\n",
              "\n",
              "    .dataframe tbody tr th {\n",
              "        vertical-align: top;\n",
              "    }\n",
              "\n",
              "    .dataframe thead th {\n",
              "        text-align: right;\n",
              "    }\n",
              "</style>\n",
              "<table border=\"1\" class=\"dataframe\">\n",
              "  <thead>\n",
              "    <tr style=\"text-align: right;\">\n",
              "      <th></th>\n",
              "      <th>Dia</th>\n",
              "      <th>Horas Trabalhadas</th>\n",
              "      <th>Bugs Corrigidos</th>\n",
              "      <th>Tarefas Concluídas</th>\n",
              "    </tr>\n",
              "  </thead>\n",
              "  <tbody>\n",
              "    <tr>\n",
              "      <th>0</th>\n",
              "      <td>Segunda</td>\n",
              "      <td>6</td>\n",
              "      <td>3</td>\n",
              "      <td>5</td>\n",
              "    </tr>\n",
              "    <tr>\n",
              "      <th>1</th>\n",
              "      <td>Terça</td>\n",
              "      <td>7</td>\n",
              "      <td>2</td>\n",
              "      <td>4</td>\n",
              "    </tr>\n",
              "    <tr>\n",
              "      <th>2</th>\n",
              "      <td>Quarta</td>\n",
              "      <td>8</td>\n",
              "      <td>1</td>\n",
              "      <td>6</td>\n",
              "    </tr>\n",
              "    <tr>\n",
              "      <th>3</th>\n",
              "      <td>Quinta</td>\n",
              "      <td>6</td>\n",
              "      <td>4</td>\n",
              "      <td>4</td>\n",
              "    </tr>\n",
              "    <tr>\n",
              "      <th>4</th>\n",
              "      <td>Sexta</td>\n",
              "      <td>7</td>\n",
              "      <td>3</td>\n",
              "      <td>5</td>\n",
              "    </tr>\n",
              "  </tbody>\n",
              "</table>\n",
              "</div>\n",
              "      <button class=\"colab-df-convert\" onclick=\"convertToInteractive('df-1c5339db-bb1d-4352-b417-78e59dc71bd4')\"\n",
              "              title=\"Convert this dataframe to an interactive table.\"\n",
              "              style=\"display:none;\">\n",
              "\n",
              "  <svg xmlns=\"http://www.w3.org/2000/svg\" height=\"24px\"viewBox=\"0 0 24 24\"\n",
              "       width=\"24px\">\n",
              "    <path d=\"M0 0h24v24H0V0z\" fill=\"none\"/>\n",
              "    <path d=\"M18.56 5.44l.94 2.06.94-2.06 2.06-.94-2.06-.94-.94-2.06-.94 2.06-2.06.94zm-11 1L8.5 8.5l.94-2.06 2.06-.94-2.06-.94L8.5 2.5l-.94 2.06-2.06.94zm10 10l.94 2.06.94-2.06 2.06-.94-2.06-.94-.94-2.06-.94 2.06-2.06.94z\"/><path d=\"M17.41 7.96l-1.37-1.37c-.4-.4-.92-.59-1.43-.59-.52 0-1.04.2-1.43.59L10.3 9.45l-7.72 7.72c-.78.78-.78 2.05 0 2.83L4 21.41c.39.39.9.59 1.41.59.51 0 1.02-.2 1.41-.59l7.78-7.78 2.81-2.81c.8-.78.8-2.07 0-2.86zM5.41 20L4 18.59l7.72-7.72 1.47 1.35L5.41 20z\"/>\n",
              "  </svg>\n",
              "      </button>\n",
              "\n",
              "\n",
              "\n",
              "    <div id=\"df-dd8c826e-dd91-4fac-96fe-b0b224197010\">\n",
              "      <button class=\"colab-df-quickchart\" onclick=\"quickchart('df-dd8c826e-dd91-4fac-96fe-b0b224197010')\"\n",
              "              title=\"Suggest charts.\"\n",
              "              style=\"display:none;\">\n",
              "\n",
              "<svg xmlns=\"http://www.w3.org/2000/svg\" height=\"24px\"viewBox=\"0 0 24 24\"\n",
              "     width=\"24px\">\n",
              "    <g>\n",
              "        <path d=\"M19 3H5c-1.1 0-2 .9-2 2v14c0 1.1.9 2 2 2h14c1.1 0 2-.9 2-2V5c0-1.1-.9-2-2-2zM9 17H7v-7h2v7zm4 0h-2V7h2v10zm4 0h-2v-4h2v4z\"/>\n",
              "    </g>\n",
              "</svg>\n",
              "      </button>\n",
              "    </div>\n",
              "\n",
              "<style>\n",
              "  .colab-df-quickchart {\n",
              "    background-color: #E8F0FE;\n",
              "    border: none;\n",
              "    border-radius: 50%;\n",
              "    cursor: pointer;\n",
              "    display: none;\n",
              "    fill: #1967D2;\n",
              "    height: 32px;\n",
              "    padding: 0 0 0 0;\n",
              "    width: 32px;\n",
              "  }\n",
              "\n",
              "  .colab-df-quickchart:hover {\n",
              "    background-color: #E2EBFA;\n",
              "    box-shadow: 0px 1px 2px rgba(60, 64, 67, 0.3), 0px 1px 3px 1px rgba(60, 64, 67, 0.15);\n",
              "    fill: #174EA6;\n",
              "  }\n",
              "\n",
              "  [theme=dark] .colab-df-quickchart {\n",
              "    background-color: #3B4455;\n",
              "    fill: #D2E3FC;\n",
              "  }\n",
              "\n",
              "  [theme=dark] .colab-df-quickchart:hover {\n",
              "    background-color: #434B5C;\n",
              "    box-shadow: 0px 1px 3px 1px rgba(0, 0, 0, 0.15);\n",
              "    filter: drop-shadow(0px 1px 2px rgba(0, 0, 0, 0.3));\n",
              "    fill: #FFFFFF;\n",
              "  }\n",
              "</style>\n",
              "\n",
              "    <script>\n",
              "      async function quickchart(key) {\n",
              "        const containerElement = document.querySelector('#' + key);\n",
              "        const charts = await google.colab.kernel.invokeFunction(\n",
              "            'suggestCharts', [key], {});\n",
              "      }\n",
              "    </script>\n",
              "\n",
              "      <script>\n",
              "\n",
              "function displayQuickchartButton(domScope) {\n",
              "  let quickchartButtonEl =\n",
              "    domScope.querySelector('#df-dd8c826e-dd91-4fac-96fe-b0b224197010 button.colab-df-quickchart');\n",
              "  quickchartButtonEl.style.display =\n",
              "    google.colab.kernel.accessAllowed ? 'block' : 'none';\n",
              "}\n",
              "\n",
              "        displayQuickchartButton(document);\n",
              "      </script>\n",
              "      <style>\n",
              "    .colab-df-container {\n",
              "      display:flex;\n",
              "      flex-wrap:wrap;\n",
              "      gap: 12px;\n",
              "    }\n",
              "\n",
              "    .colab-df-convert {\n",
              "      background-color: #E8F0FE;\n",
              "      border: none;\n",
              "      border-radius: 50%;\n",
              "      cursor: pointer;\n",
              "      display: none;\n",
              "      fill: #1967D2;\n",
              "      height: 32px;\n",
              "      padding: 0 0 0 0;\n",
              "      width: 32px;\n",
              "    }\n",
              "\n",
              "    .colab-df-convert:hover {\n",
              "      background-color: #E2EBFA;\n",
              "      box-shadow: 0px 1px 2px rgba(60, 64, 67, 0.3), 0px 1px 3px 1px rgba(60, 64, 67, 0.15);\n",
              "      fill: #174EA6;\n",
              "    }\n",
              "\n",
              "    [theme=dark] .colab-df-convert {\n",
              "      background-color: #3B4455;\n",
              "      fill: #D2E3FC;\n",
              "    }\n",
              "\n",
              "    [theme=dark] .colab-df-convert:hover {\n",
              "      background-color: #434B5C;\n",
              "      box-shadow: 0px 1px 3px 1px rgba(0, 0, 0, 0.15);\n",
              "      filter: drop-shadow(0px 1px 2px rgba(0, 0, 0, 0.3));\n",
              "      fill: #FFFFFF;\n",
              "    }\n",
              "  </style>\n",
              "\n",
              "      <script>\n",
              "        const buttonEl =\n",
              "          document.querySelector('#df-1c5339db-bb1d-4352-b417-78e59dc71bd4 button.colab-df-convert');\n",
              "        buttonEl.style.display =\n",
              "          google.colab.kernel.accessAllowed ? 'block' : 'none';\n",
              "\n",
              "        async function convertToInteractive(key) {\n",
              "          const element = document.querySelector('#df-1c5339db-bb1d-4352-b417-78e59dc71bd4');\n",
              "          const dataTable =\n",
              "            await google.colab.kernel.invokeFunction('convertToInteractive',\n",
              "                                                     [key], {});\n",
              "          if (!dataTable) return;\n",
              "\n",
              "          const docLinkHtml = 'Like what you see? Visit the ' +\n",
              "            '<a target=\"_blank\" href=https://colab.research.google.com/notebooks/data_table.ipynb>data table notebook</a>'\n",
              "            + ' to learn more about interactive tables.';\n",
              "          element.innerHTML = '';\n",
              "          dataTable['output_type'] = 'display_data';\n",
              "          await google.colab.output.renderOutput(dataTable, element);\n",
              "          const docLink = document.createElement('div');\n",
              "          docLink.innerHTML = docLinkHtml;\n",
              "          element.appendChild(docLink);\n",
              "        }\n",
              "      </script>\n",
              "    </div>\n",
              "  </div>\n"
            ]
          },
          "metadata": {},
          "execution_count": 30
        }
      ]
    },
    {
      "cell_type": "markdown",
      "source": [
        "- O dataframe está com os dados que serão trabalhados na análise, aqui estão através do head os 5 primeiros registros;"
      ],
      "metadata": {
        "id": "-7_1rHj21O-B"
      }
    },
    {
      "cell_type": "markdown",
      "source": [
        "- Atraves do shape da tabela, ver o as dimensões do DataSet que será trabalhado;"
      ],
      "metadata": {
        "id": "R5k05C4i14G7"
      }
    },
    {
      "cell_type": "code",
      "source": [
        "dataframe.shape"
      ],
      "metadata": {
        "colab": {
          "base_uri": "https://localhost:8080/"
        },
        "id": "pJgP7UKZ1zHF",
        "outputId": "2197aab8-9583-4312-9b7e-ac8a9a99c2ef"
      },
      "execution_count": 31,
      "outputs": [
        {
          "output_type": "execute_result",
          "data": {
            "text/plain": [
              "(7, 4)"
            ]
          },
          "metadata": {},
          "execution_count": 31
        }
      ]
    },
    {
      "cell_type": "markdown",
      "source": [
        "- Tem 7 registros (linhas)\n",
        "- com 4 variáveis (colunas)"
      ],
      "metadata": {
        "id": "UWh_DBm571Qp"
      }
    },
    {
      "cell_type": "code",
      "source": [
        "dataframe.info()"
      ],
      "metadata": {
        "colab": {
          "base_uri": "https://localhost:8080/"
        },
        "id": "5TCLEq6w8-Pi",
        "outputId": "b39336d1-beea-4882-9d0b-aaf9c4f113e5"
      },
      "execution_count": 32,
      "outputs": [
        {
          "output_type": "stream",
          "name": "stdout",
          "text": [
            "<class 'pandas.core.frame.DataFrame'>\n",
            "RangeIndex: 7 entries, 0 to 6\n",
            "Data columns (total 4 columns):\n",
            " #   Column              Non-Null Count  Dtype \n",
            "---  ------              --------------  ----- \n",
            " 0   Dia                 7 non-null      object\n",
            " 1   Horas Trabalhadas   7 non-null      int64 \n",
            " 2   Bugs Corrigidos     7 non-null      int64 \n",
            " 3   Tarefas Concluídas  7 non-null      int64 \n",
            "dtypes: int64(3), object(1)\n",
            "memory usage: 352.0+ bytes\n"
          ]
        }
      ]
    },
    {
      "cell_type": "markdown",
      "source": [
        "- Aqui temos as informações dos tipos de dados, podemos perceber também que não temos registros nulos"
      ],
      "metadata": {
        "id": "h9YECqgR_Kcp"
      }
    },
    {
      "cell_type": "markdown",
      "source": [
        "---\n",
        "\n",
        "<font color=red> *Análise estatistíca da tabela\n",
        "- Os dados foram coletados durante uma semana de trabalho de segunda á domingo;\n",
        "- Com as seguintes variáveis:\n",
        "     - `Horas trabalhadas;`\n",
        "     - `Bugs Corrígidos;`\n",
        "     - `Tarefas Concluídas.`"
      ],
      "metadata": {
        "id": "J6V1P5WgAYg1"
      }
    },
    {
      "cell_type": "markdown",
      "source": [
        "---\n",
        "\n",
        "## <font color = red> *Funções"
      ],
      "metadata": {
        "id": "qyUilbnio-O-"
      }
    },
    {
      "cell_type": "markdown",
      "source": [
        "- Função gera_grafico\n",
        "   - Utilizada para gerar gráfico de linha;"
      ],
      "metadata": {
        "id": "K4xxiJ_dpH4f"
      }
    },
    {
      "cell_type": "code",
      "source": [
        "# grafico com o número de horas ao longo da semana\n",
        "def gera_grafico(x,y,titulo,legenda,ylabel,cor):\n",
        " plt.style.use('dark_background')\n",
        " plt.figure(figsize = (6,3))\n",
        "#plt.plot(dia,hora_trab, color = 'green', label = \"Linha que mostra o numero de horas trabalhada x dia\")\n",
        " plt.plot(x , y, color=cor, ls='-', lw='1', marker='o')\n",
        " plt.title(titulo)\n",
        " plt.grid(False)\n",
        " plt.box(True)\n",
        " plt.legend(legenda)\n",
        " plt.xlabel(\"Dias da semana trabalhados\")\n",
        " plt.ylabel(ylabel)"
      ],
      "metadata": {
        "id": "lxqSqPViZx1V"
      },
      "execution_count": 33,
      "outputs": []
    },
    {
      "cell_type": "markdown",
      "source": [
        "- Função format\n",
        "     - Utilizada para formatar float em %.2f"
      ],
      "metadata": {
        "id": "XgSjC8xzpP5m"
      }
    },
    {
      "cell_type": "code",
      "source": [
        "# foi criada uma função lambda para formatar os números\n",
        "format=lambda x : '%.2f' % x"
      ],
      "metadata": {
        "id": "2MQpUhWVB3z_"
      },
      "execution_count": 34,
      "outputs": []
    },
    {
      "cell_type": "markdown",
      "source": [
        "- Função print_estatistico\n",
        "    - Utilizado para printar os dados estatisticos;"
      ],
      "metadata": {
        "id": "QNzU_PGs54S7"
      }
    },
    {
      "cell_type": "code",
      "source": [
        "# função para mostrar os dados estatisticos do dataset\n",
        "def print_estatistico(indice,valor):\n",
        "    print ('***' *30)\n",
        "    print(f'Máximo de ' + (indice) + ' em um dia :  '+  format(valor.max()))\n",
        "    print ('---'*30)\n",
        "    print(f'Mínimo de ' + (indice) + ' em um dia : '+ format(valor.min()))\n",
        "    print ('---'*30)\n",
        "    print(f'Total de dias contabilizados: '+ format(valor.count()))\n",
        "    print ('---'*30)\n",
        "    print(f'Média de diária de ' + (indice) + ': '+ format(valor.mean()))\n",
        "    print ('---'*30)\n",
        "    print(f'Total de '+(indice) +' na semana: ' +format(valor.sum()))\n",
        "    print ('***' *30)"
      ],
      "metadata": {
        "id": "qk4IbGAPEy3f"
      },
      "execution_count": 35,
      "outputs": []
    },
    {
      "cell_type": "markdown",
      "source": [
        "---\n",
        "\n",
        "## <font color = red> *Trabalhando os dados:"
      ],
      "metadata": {
        "id": "YMuWqvQsERkm"
      }
    },
    {
      "cell_type": "markdown",
      "source": [
        "### <font color = blue> Produtividade Diária"
      ],
      "metadata": {
        "id": "QErgBBQ8AIHu"
      }
    },
    {
      "cell_type": "markdown",
      "source": [
        "- Adiconado ao DataSet uma coluna chamada 'produt_diaria' que vai guardar a variavel produtividade diaria ao longo da semana;\n",
        "- Calculando a produtividade diária 'Tarefas Concluídas' / 'Horas Trabalhadas'"
      ],
      "metadata": {
        "id": "YODbaeGvKl4D"
      }
    },
    {
      "cell_type": "code",
      "source": [
        "# calculando a produtividade diaria\n",
        "dataframe['produt_diaria']=dataframe['Tarefas Concluídas']/dataframe['Horas Trabalhadas']\n"
      ],
      "metadata": {
        "id": "sj3Q1P12di3P"
      },
      "execution_count": 36,
      "outputs": []
    },
    {
      "cell_type": "markdown",
      "source": [
        "- Aqui obtivemos os resultados da produtividade diaria durante a semana;"
      ],
      "metadata": {
        "id": "V2YPAM15LnCS"
      }
    },
    {
      "cell_type": "markdown",
      "source": [
        "- Foi chamada a função format para formatar os numeros que estão muito extensos, facilitando a vizualização"
      ],
      "metadata": {
        "id": "MNA-w0CkZK3t"
      }
    },
    {
      "cell_type": "code",
      "source": [
        "# vizualização do dataset\n",
        "dataframe['produt_diaria'].apply(format)\n"
      ],
      "metadata": {
        "colab": {
          "base_uri": "https://localhost:8080/"
        },
        "id": "GRQljhTUYSNk",
        "outputId": "656375d3-06fc-496b-c4ea-f159cc6c19f4"
      },
      "execution_count": 37,
      "outputs": [
        {
          "output_type": "execute_result",
          "data": {
            "text/plain": [
              "0    0.83\n",
              "1    0.57\n",
              "2    0.75\n",
              "3    0.67\n",
              "4    0.71\n",
              "5    0.60\n",
              "6    0.50\n",
              "Name: produt_diaria, dtype: object"
            ]
          },
          "metadata": {},
          "execution_count": 37
        }
      ]
    },
    {
      "cell_type": "markdown",
      "source": [
        "- Aqui os dados ja estão com uma melhor vizualização;\n",
        "- Abaixo uma lista com a produtividade diária durante a semana."
      ],
      "metadata": {
        "id": "M7CVEW--MbJC"
      }
    },
    {
      "cell_type": "markdown",
      "source": [
        "####<font color = blue> Gráfico de Produtividade Diária"
      ],
      "metadata": {
        "id": "2F6sXSWwZoMQ"
      }
    },
    {
      "cell_type": "markdown",
      "source": [
        "- Chamando a função gera_gráfico"
      ],
      "metadata": {
        "id": "YV5T8SJouPVT"
      }
    },
    {
      "cell_type": "code",
      "source": [
        "#chamando a função gera_grafico\n",
        "gera_grafico(dataframe['Dia'], dataframe['produt_diaria'], 'Produtividade Diaria', 'Tarefa/Hora', 'indice de produtividade', 'blue')"
      ],
      "metadata": {
        "colab": {
          "base_uri": "https://localhost:8080/",
          "height": 333
        },
        "id": "3FqWIAMHhGAQ",
        "outputId": "5ee49911-fb51-41da-d3f6-9acb27013a72"
      },
      "execution_count": 38,
      "outputs": [
        {
          "output_type": "display_data",
          "data": {
            "text/plain": [
              "<Figure size 600x300 with 1 Axes>"
            ],
            "image/png": "[encoded data removed]"
          },
          "metadata": {}
        }
      ]
    },
    {
      "cell_type": "markdown",
      "source": [
        "- Relatório de produtividade diária"
      ],
      "metadata": {
        "id": "C0cVDlBwuaPK"
      }
    },
    {
      "cell_type": "code",
      "source": [
        "# usado um for para mostrar o print da produtividade diaria\n",
        "for i in range(dataframe['Dia'].count()):\n",
        "      print ('---'*30)\n",
        "      print (f'Produtividade Diária de '+dataframe['Dia'][i]+ ' - feira : '  + format (dataframe['produt_diaria'][i]) + ' %')"
      ],
      "metadata": {
        "colab": {
          "base_uri": "https://localhost:8080/"
        },
        "id": "JXs7ZsCTNnic",
        "outputId": "4f508bf2-a7d7-4ef4-8b74-a01cdd29a722"
      },
      "execution_count": 39,
      "outputs": [
        {
          "output_type": "stream",
          "name": "stdout",
          "text": [
            "------------------------------------------------------------------------------------------\n",
            "Produtividade Diária de Segunda - feira : 0.83 %\n",
            "------------------------------------------------------------------------------------------\n",
            "Produtividade Diária de Terça - feira : 0.57 %\n",
            "------------------------------------------------------------------------------------------\n",
            "Produtividade Diária de Quarta - feira : 0.75 %\n",
            "------------------------------------------------------------------------------------------\n",
            "Produtividade Diária de Quinta - feira : 0.67 %\n",
            "------------------------------------------------------------------------------------------\n",
            "Produtividade Diária de Sexta - feira : 0.71 %\n",
            "------------------------------------------------------------------------------------------\n",
            "Produtividade Diária de Sábado - feira : 0.60 %\n",
            "------------------------------------------------------------------------------------------\n",
            "Produtividade Diária de Domingo - feira : 0.50 %\n"
          ]
        }
      ]
    },
    {
      "cell_type": "markdown",
      "source": [
        "- Informações Importantes  <font color =blue> ---> 'Produtividade Diária'\n",
        "    - --> Analisando o gráfico idendificamos que o dia com maior produtividade foi segunda - feira com 0.83;\n",
        "    - --> O funcionário não tem um padrão diário de produtividade;\n",
        "    - --> O dia da semana que menos produziu foi domingo 0.50;"
      ],
      "metadata": {
        "id": "TSA0hwqPbhxR"
      }
    },
    {
      "cell_type": "markdown",
      "source": [
        "- Abaixo a produtividade semanal"
      ],
      "metadata": {
        "id": "pyrSPkzTR5no"
      }
    },
    {
      "cell_type": "code",
      "source": [
        "produt_semanal = dataframe['Tarefas Concluídas'].sum()/dataframe['Horas Trabalhadas'].sum()\n",
        "print ('***' *30)\n",
        "print (f'Produtividade Semanal: '+ format(produt_semanal)+ ' %')"
      ],
      "metadata": {
        "colab": {
          "base_uri": "https://localhost:8080/"
        },
        "id": "_JSgMkJASEfJ",
        "outputId": "8ec388b4-2f1e-44f7-9521-e794625e22bd"
      },
      "execution_count": 40,
      "outputs": [
        {
          "output_type": "stream",
          "name": "stdout",
          "text": [
            "******************************************************************************************\n",
            "Produtividade Semanal: 0.67 %\n"
          ]
        }
      ]
    },
    {
      "cell_type": "markdown",
      "source": [
        "### <font color = red> Horas Trabalhadas:"
      ],
      "metadata": {
        "id": "VUl95sLrNBpy"
      }
    },
    {
      "cell_type": "markdown",
      "source": [
        "####<font color =red> Gráfico de Horas Trabalhadas"
      ],
      "metadata": {
        "id": "KOzCHrju8l0T"
      }
    },
    {
      "cell_type": "markdown",
      "source": [
        "- Ulizando a função gera_grafico"
      ],
      "metadata": {
        "id": "tj_ebGlhvYYq"
      }
    },
    {
      "cell_type": "code",
      "source": [
        "gera_grafico(dataframe['Dia'], dataframe['Horas Trabalhadas'], 'Horas Trabalhadas diárias', 'Horas/dias', 'indice de horas','red')"
      ],
      "metadata": {
        "colab": {
          "base_uri": "https://localhost:8080/",
          "height": 333
        },
        "id": "geyHn3Em818Z",
        "outputId": "af1d2eab-02b2-439c-8960-9a19c04493e0"
      },
      "execution_count": 41,
      "outputs": [
        {
          "output_type": "display_data",
          "data": {
            "text/plain": [
              "<Figure size 600x300 with 1 Axes>"
            ],
            "image/png": "[encoded data removed]"
          },
          "metadata": {}
        }
      ]
    },
    {
      "cell_type": "markdown",
      "source": [
        "- Estatistíca de Horas Trabalhadas:\n",
        "  - Chamando a função 'print_estatistico', para obter os dados de horas trabalhadas."
      ],
      "metadata": {
        "id": "M6O3Fj_37HXu"
      }
    },
    {
      "cell_type": "code",
      "source": [
        "print_estatistico('horas trabalhadas',dataframe['Horas Trabalhadas'])"
      ],
      "metadata": {
        "colab": {
          "base_uri": "https://localhost:8080/"
        },
        "id": "yVFXFSLzv4gF",
        "outputId": "4b2bef50-e023-4162-c9e9-007f66c5bec7"
      },
      "execution_count": 42,
      "outputs": [
        {
          "output_type": "stream",
          "name": "stdout",
          "text": [
            "******************************************************************************************\n",
            "Máximo de horas trabalhadas em um dia :  8.00\n",
            "------------------------------------------------------------------------------------------\n",
            "Mínimo de horas trabalhadas em um dia : 4.00\n",
            "------------------------------------------------------------------------------------------\n",
            "Total de dias contabilizados: 7.00\n",
            "------------------------------------------------------------------------------------------\n",
            "Média de diária de horas trabalhadas: 6.14\n",
            "------------------------------------------------------------------------------------------\n",
            "Total de horas trabalhadas na semana: 43.00\n",
            "******************************************************************************************\n"
          ]
        }
      ]
    },
    {
      "cell_type": "markdown",
      "source": [
        "- Informações Importantes  <font color =red> ---> 'Horas Trabalhadas'\n",
        "    - --> Analisando o gráfico idendificamos que o dia com mais horas trabalhadas foi quarta - feira com 8hs;\n",
        "    - --> O funcionário não tem um padrão diário de horas trabalhadas;\n",
        "    - --> O dia da semana com menos horas foi domingo 4hs;"
      ],
      "metadata": {
        "id": "wuMTTmWD9rhl"
      }
    },
    {
      "cell_type": "markdown",
      "source": [
        "### <font color=yellow> Bugs Corrigidos"
      ],
      "metadata": {
        "id": "KX30lxOPlZKr"
      }
    },
    {
      "cell_type": "markdown",
      "source": [
        "####<font color =yellow> Gráfico Bugs Corrigidos"
      ],
      "metadata": {
        "id": "QygCymW4mfIe"
      }
    },
    {
      "cell_type": "code",
      "source": [
        "# utilizando a função gera_grafico\n",
        "gera_grafico( dataframe ['Dia'], dataframe ['Bugs Corrigidos'], 'Bugs Corridos', 'bugs/dia', 'numero de bugs', 'yellow')"
      ],
      "metadata": {
        "colab": {
          "base_uri": "https://localhost:8080/",
          "height": 333
        },
        "id": "cpodVP1A9rTG",
        "outputId": "bd12a1e0-f236-4a2d-b06e-51aef715e5e3"
      },
      "execution_count": 43,
      "outputs": [
        {
          "output_type": "display_data",
          "data": {
            "text/plain": [
              "<Figure size 600x300 with 1 Axes>"
            ],
            "image/png": "[encoded data removed]"
          },
          "metadata": {}
        }
      ]
    },
    {
      "cell_type": "code",
      "source": [
        "#utilizando a função print_estatistico\n",
        "print_estatistico('bugs corrigidos',dataframe['Bugs Corrigidos'])"
      ],
      "metadata": {
        "colab": {
          "base_uri": "https://localhost:8080/"
        },
        "outputId": "5b9cf908-ad52-4cff-e01f-d0d7a7b6ea0e",
        "id": "fvejcp_Kni86"
      },
      "execution_count": 44,
      "outputs": [
        {
          "output_type": "stream",
          "name": "stdout",
          "text": [
            "******************************************************************************************\n",
            "Máximo de bugs corrigidos em um dia :  4.00\n",
            "------------------------------------------------------------------------------------------\n",
            "Mínimo de bugs corrigidos em um dia : 1.00\n",
            "------------------------------------------------------------------------------------------\n",
            "Total de dias contabilizados: 7.00\n",
            "------------------------------------------------------------------------------------------\n",
            "Média de diária de bugs corrigidos: 2.29\n",
            "------------------------------------------------------------------------------------------\n",
            "Total de bugs corrigidos na semana: 16.00\n",
            "******************************************************************************************\n"
          ]
        }
      ]
    },
    {
      "cell_type": "markdown",
      "source": [
        "- Informações Importantes  <font color =yellow> ---> 'Bugs Corrigidos'\n",
        "    - --> Analisando o gráfico idendificamos que o dia com mais bugs corrigidos foi quinta - feira com <font color = yellow> (4);\n",
        "    - --> O funcionário não tem um padrão diário de bugs corrigidos;\n",
        "    - --> O dia da semana com menos bugs corrigidos foi domingo <font color = yellow>(1);"
      ],
      "metadata": {
        "id": "pkM90ff9n4IU"
      }
    },
    {
      "cell_type": "markdown",
      "source": [
        "### <font color = orange> Tarefas Concluídas"
      ],
      "metadata": {
        "id": "AYfK8pHapyMu"
      }
    },
    {
      "cell_type": "markdown",
      "source": [
        "####<font color = orange> Gráfico de Tarefas Concluídas"
      ],
      "metadata": {
        "id": "rVJeiHmBqCyE"
      }
    },
    {
      "cell_type": "code",
      "source": [
        "#função gera_grafico\n",
        "gera_grafico( dataframe ['Dia'], dataframe ['Tarefas Concluídas'], 'Tarefas Concluídas', 'tarefas/dia', 'numero de tarefas', 'orange')"
      ],
      "metadata": {
        "colab": {
          "base_uri": "https://localhost:8080/",
          "height": 333
        },
        "id": "E_hBD9zBqLsl",
        "outputId": "ce38c3fa-723c-49ad-eb10-ad5218e801b2"
      },
      "execution_count": 45,
      "outputs": [
        {
          "output_type": "display_data",
          "data": {
            "text/plain": [
              "<Figure size 600x300 with 1 Axes>"
            ],
            "image/png": "[encoded data removed]"
          },
          "metadata": {}
        }
      ]
    },
    {
      "cell_type": "code",
      "source": [
        "#função print estatistico\n",
        "print_estatistico('tarefas concluídas',dataframe['Tarefas Concluídas'])"
      ],
      "metadata": {
        "colab": {
          "base_uri": "https://localhost:8080/"
        },
        "id": "tEOg8s8NnaUt",
        "outputId": "bd628faa-74ae-4fc5-e860-0f04d6d3e627"
      },
      "execution_count": 46,
      "outputs": [
        {
          "output_type": "stream",
          "name": "stdout",
          "text": [
            "******************************************************************************************\n",
            "Máximo de tarefas concluídas em um dia :  6.00\n",
            "------------------------------------------------------------------------------------------\n",
            "Mínimo de tarefas concluídas em um dia : 2.00\n",
            "------------------------------------------------------------------------------------------\n",
            "Total de dias contabilizados: 7.00\n",
            "------------------------------------------------------------------------------------------\n",
            "Média de diária de tarefas concluídas: 4.14\n",
            "------------------------------------------------------------------------------------------\n",
            "Total de tarefas concluídas na semana: 29.00\n",
            "******************************************************************************************\n"
          ]
        }
      ]
    },
    {
      "cell_type": "markdown",
      "source": [
        "- Informações Importantes  <font color =orange> ---> 'Tarefas Concluídas'\n",
        "    - --> Analisando o gráfico idendificamos que o dia com mais tarefas concluidas foi quarta - feira com <font color = orange> (6);\n",
        "    - --> O funcionário não tem um padrão diário de tarefas concluidas;\n",
        "    - --> O dia da semana com menos tarefas concluidas foi domingo <font color = orange>(2);"
      ],
      "metadata": {
        "id": "B5piaQ3NrNkl"
      }
    },
    {
      "cell_type": "markdown",
      "source": [
        "### <font color = green> Médias"
      ],
      "metadata": {
        "id": "wDSKKm16sGnT"
      }
    },
    {
      "cell_type": "markdown",
      "source": [
        "- Usando um Dataframe auxiliar para pegar as médias dos indicadores"
      ],
      "metadata": {
        "id": "4njpiTkWxZiS"
      }
    },
    {
      "cell_type": "code",
      "source": [
        "df_aux =dataframe.describe()\n",
        "df_aux =df_aux.T"
      ],
      "metadata": {
        "id": "xQISiQtmsbO0"
      },
      "execution_count": 47,
      "outputs": []
    },
    {
      "cell_type": "code",
      "source": [
        "df_aux['mean']"
      ],
      "metadata": {
        "colab": {
          "base_uri": "https://localhost:8080/"
        },
        "id": "u8qHPdsDwODK",
        "outputId": "1473f398-dc21-41e1-e4f8-c7ec0d820d0a"
      },
      "execution_count": 48,
      "outputs": [
        {
          "output_type": "execute_result",
          "data": {
            "text/plain": [
              "Horas Trabalhadas     6.142857\n",
              "Bugs Corrigidos       2.285714\n",
              "Tarefas Concluídas    4.142857\n",
              "produt_diaria         0.662245\n",
              "Name: mean, dtype: float64"
            ]
          },
          "metadata": {},
          "execution_count": 48
        }
      ]
    },
    {
      "cell_type": "markdown",
      "source": [
        "#### <font color = green>Gráfico de Médias"
      ],
      "metadata": {
        "id": "YDn72-ZzVicw"
      }
    },
    {
      "cell_type": "code",
      "source": [
        "gera_grafico(df_aux.index ,df_aux['mean'],'Médias','Indicadores','indices','green')"
      ],
      "metadata": {
        "colab": {
          "base_uri": "https://localhost:8080/",
          "height": 333
        },
        "id": "WobQiRxzLxWf",
        "outputId": "6ff95526-f116-451d-aef8-1a58314d265c"
      },
      "execution_count": 49,
      "outputs": [
        {
          "output_type": "display_data",
          "data": {
            "text/plain": [
              "<Figure size 600x300 with 1 Axes>"
            ],
            "image/png": "[encoded data removed]"
          },
          "metadata": {}
        }
      ]
    },
    {
      "cell_type": "markdown",
      "source": [
        "- Informações Importantes  <font color =green> ---> 'Hipóteses'\n",
        "    - --> Analisando o gráfico idendificamos que a média de horas trabalhadas é a mais alta, porém náo quer dizer que a produtividade desse funcionario seja alta, pois a média de tarefas concluidas esta bem abaixo, o que derruba a média de produtividade diaria para menos de 1% ;\n",
        "    - --> Tambem conseguimos perceber que a media de bugs corridos é quase a metade da media de tarefas concluídas;\n",
        "    - --> Não existe padrão entre as médias;"
      ],
      "metadata": {
        "id": "Bq6zhjJLVyWt"
      }
    },
    {
      "cell_type": "markdown",
      "source": [
        "### Gráficos com os índices de todos os indicadores"
      ],
      "metadata": {
        "id": "67QW9cPJxth6"
      }
    },
    {
      "cell_type": "code",
      "source": [
        "plt.style.use('dark_background')\n",
        "plt.figure(figsize = (13,5))\n",
        "#plt.plot(dia,hora_trab, color = 'green', label = \"Linha que mostra o numero de horas trabalhada x dia\")\n",
        "#plt.subplot(1,2,1)\n",
        "plt.plot(dataframe['Dia'],dataframe['Bugs Corrigidos'], label = 'Bugs Corrigidos',color='yellow', ls='-', lw='1', marker='o')\n",
        "plt.plot(dataframe['Dia'],dataframe['Tarefas Concluídas'], label = 'Tarefas concluidas',color='orange', ls='-', lw='1', marker='o')\n",
        "plt.plot(dataframe['Dia'],dataframe['Horas Trabalhadas'],label = 'Horas trabalhadas', color='red', ls='-', lw='1', marker='o')\n",
        "plt.plot(dataframe['Dia'],dataframe['produt_diaria'],label = 'produtividade diaria', color='blue', ls='-', lw='1', marker='o')\n",
        "plt.title(\"\")\n",
        "plt.grid(False)\n",
        "plt.box(True)\n",
        "plt.legend()\n",
        "plt.xlabel(\"Dias da semana trabalhados\")\n",
        "plt.ylabel(\"Números dos indicadores\")"
      ],
      "metadata": {
        "colab": {
          "base_uri": "https://localhost:8080/",
          "height": 482
        },
        "id": "hT-Wh4ROuExy",
        "outputId": "ae603a9a-783f-4d72-f743-eddef2f21fe6"
      },
      "execution_count": 50,
      "outputs": [
        {
          "output_type": "execute_result",
          "data": {
            "text/plain": [
              "Text(0, 0.5, 'Números dos indicadores')"
            ]
          },
          "metadata": {},
          "execution_count": 50
        },
        {
          "output_type": "display_data",
          "data": {
            "text/plain": [
              "<Figure size 1300x500 with 1 Axes>"
            ],
            "image/png": "[encoded data removed]"
          },
          "metadata": {}
        }
      ]
    },
    {
      "cell_type": "markdown",
      "source": [
        "- Informações Importantes  <font color =green> ---> 'Hipóteses'\n",
        "    - --> Analisando o gráfico idendificamos que na segunda feira foi o dia mais produtivo do funcionário, pois mesmo não sendo o dia que trabalhou mais horas o número de tarefas concluídas aconpanhou o indice de horas trabalhadas o que gerou o indicador de produtividade diária mais alto da semana.\n",
        "    - --> O gráfico tambem permitiu vizualizar que o dia menos produtivo é domingo, pois possui os índices todos bem baixos;\n",
        "    - --> Quarta feira apesar de ser o dia com ídice de horas trabalhadas mais alto e o de tarefas concluídas tambem alto, o de bugs corrigido foi muito baixo;\n",
        "    ### <font color = green> --> Insights <font color = white>\n",
        "    - Acredito que domingo possa ser tirado da semana de trabalho, pois o índice de produtividade diária é muito baixo, não prejudicando o desenvolvimento do projeto;\n",
        "    - Talves uma distribuição melhor de horários aumentasse um pouco mais a produtividade diária;\n",
        "    - os bugs corrigidos poderiam ser melhor distribuidos durante a semana."
      ],
      "metadata": {
        "id": "7RIJqlqCaDjO"
      }
    }
  ]
}